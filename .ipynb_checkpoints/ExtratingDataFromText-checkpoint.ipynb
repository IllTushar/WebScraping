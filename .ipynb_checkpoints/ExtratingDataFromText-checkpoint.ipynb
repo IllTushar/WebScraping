{
 "cells": [
  {
   "cell_type": "code",
   "execution_count": 1,
   "id": "7263d8c3-b674-4ba4-922e-b919daab285a",
   "metadata": {},
   "outputs": [],
   "source": [
    "import requests as rq\n",
    "from bs4 import BeautifulSoup"
   ]
  },
  {
   "cell_type": "code",
   "execution_count": 2,
   "id": "b23f5ee3-5c7b-44da-a778-ceba9960cf60",
   "metadata": {},
   "outputs": [],
   "source": [
    "data = rq.get(\"https://www.tutorialsfreak.com/\")"
   ]
  },
  {
   "cell_type": "code",
   "execution_count": 3,
   "id": "39f70067-c221-412c-b0e3-c9ce8f2cb20c",
   "metadata": {},
   "outputs": [],
   "source": [
    "soup = BeautifulSoup(data.content,\"html.parser\")"
   ]
  },
  {
   "cell_type": "code",
   "execution_count": 4,
   "id": "dc04355e-c8e7-4376-a677-6e8f0f2ee811",
   "metadata": {},
   "outputs": [],
   "source": [
    "line = soup.find_all(\"p\")"
   ]
  },
  {
   "cell_type": "code",
   "execution_count": 5,
   "id": "bb4bb7e0-9054-46be-b55a-a7ae40986a07",
   "metadata": {},
   "outputs": [
    {
     "name": "stdout",
     "output_type": "stream",
     "text": [
      "Kickstart effective learning with Tutorials Freak, with new content published every day.\n",
      "The entire content on the site is verified by pro developers and tech freaks.\n",
      "The entire content on the site is verified by pro developers and tech freaks. Enabling self-directed learning so that you can learn at your pace and shape your own path.\n",
      "Along with simplified tutorials, you get video content created by industry experts.\n",
      "Learning programming and technical things can be complex. We are here to make it easy with simple and interactive tutorials.\n",
      "Learning programming and technical things can be complex. We are here to make it easy with simple and interactive tutorials.\n",
      "Explore the expert-curated interview questions with answers.\n",
      "Plenty of quizzes with time duration and skill assessment.\n",
      "Find coding examples with programs, output, easy explanations, and videos.\n",
      "\n",
      "With an account, you get access to premium content and courses at no cost.\n",
      "Download the app now to learn and practice hassle-free.\n",
      "©  Tutorials Freak . All Rights Reserved | Design By  WsCube Tech\n"
     ]
    }
   ],
   "source": [
    "for l in line:\n",
    "    print(l.text)"
   ]
  },
  {
   "cell_type": "code",
   "execution_count": 13,
   "id": "475950ad-5bec-41b7-85c5-a09bfec81cf8",
   "metadata": {},
   "outputs": [],
   "source": [
    "para = soup.find_all(\"p\",class_ =\"fs-16 fw-400 lh-24 label-color-1 card-text\")"
   ]
  },
  {
   "cell_type": "code",
   "execution_count": 16,
   "id": "b9e47282-325c-4b1b-ace5-fc4cf50386fe",
   "metadata": {},
   "outputs": [
    {
     "name": "stdout",
     "output_type": "stream",
     "text": [
      "The entire content on the site is verified by pro developers and tech freaks. Enabling self-directed learning so that you can learn at your pace and shape your own path.\n"
     ]
    }
   ],
   "source": [
    "for l in para[1]:\n",
    "    print(l.text)"
   ]
  },
  {
   "cell_type": "code",
   "execution_count": null,
   "id": "18ba86c1-ccf3-45c2-950c-7c744df74d88",
   "metadata": {},
   "outputs": [],
   "source": []
  }
 ],
 "metadata": {
  "kernelspec": {
   "display_name": "Python 3 (ipykernel)",
   "language": "python",
   "name": "python3"
  },
  "language_info": {
   "codemirror_mode": {
    "name": "ipython",
    "version": 3
   },
   "file_extension": ".py",
   "mimetype": "text/x-python",
   "name": "python",
   "nbconvert_exporter": "python",
   "pygments_lexer": "ipython3",
   "version": "3.12.3"
  }
 },
 "nbformat": 4,
 "nbformat_minor": 5
}
