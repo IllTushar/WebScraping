{
 "cells": [
  {
   "cell_type": "code",
   "execution_count": 4,
   "id": "11f8562e-6141-4588-b9aa-3e534a97b535",
   "metadata": {},
   "outputs": [],
   "source": [
    "import requests as rq\n",
    "from bs4 import BeautifulSoup"
   ]
  },
  {
   "cell_type": "code",
   "execution_count": 5,
   "id": "8db70d4e-d5fe-4884-8606-aad0840effe0",
   "metadata": {},
   "outputs": [],
   "source": [
    "data = rq.get(\"https://www.tutorialsfreak.com/\")"
   ]
  },
  {
   "cell_type": "code",
   "execution_count": null,
   "id": "ca472808-6566-4a85-8422-81674dbab476",
   "metadata": {},
   "outputs": [],
   "source": [
    "soup = BeautifulSoup(data.content,\"html.parser\""
   ]
  }
 ],
 "metadata": {
  "kernelspec": {
   "display_name": "Python 3 (ipykernel)",
   "language": "python",
   "name": "python3"
  },
  "language_info": {
   "codemirror_mode": {
    "name": "ipython",
    "version": 3
   },
   "file_extension": ".py",
   "mimetype": "text/x-python",
   "name": "python",
   "nbconvert_exporter": "python",
   "pygments_lexer": "ipython3",
   "version": "3.12.3"
  }
 },
 "nbformat": 4,
 "nbformat_minor": 5
}
